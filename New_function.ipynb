{
 "cells": [
  {
   "cell_type": "code",
   "execution_count": 2,
   "id": "d402fa16-9f29-46a1-8789-c20e1e5ef782",
   "metadata": {},
   "outputs": [
    {
     "name": "stdout",
     "output_type": "stream",
     "text": [
      "Running a new Function\n",
      "The new function has executed!\n"
     ]
    }
   ],
   "source": [
    "print(\"Running a new Function\")\n",
    "print(\"The new function has executed!\")"
   ]
  },
  {
   "cell_type": "code",
   "execution_count": null,
   "id": "6aebb19a-f0de-4ae0-b2ef-4fba170ef536",
   "metadata": {},
   "outputs": [],
   "source": []
  }
 ],
 "metadata": {
  "kernelspec": {
   "display_name": "Python 3",
   "language": "python",
   "name": "python3"
  },
  "language_info": {
   "codemirror_mode": {
    "name": "ipython",
    "version": 3
   },
   "file_extension": ".py",
   "mimetype": "text/x-python",
   "name": "python",
   "nbconvert_exporter": "python",
   "pygments_lexer": "ipython3",
   "version": "3.6.2"
  }
 },
 "nbformat": 4,
 "nbformat_minor": 5
}
